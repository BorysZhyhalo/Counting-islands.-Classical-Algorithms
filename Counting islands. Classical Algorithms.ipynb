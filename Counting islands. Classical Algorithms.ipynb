{
 "cells": [
  {
   "cell_type": "markdown",
   "metadata": {},
   "source": [
    "1. For solving the problem of counting the number of islands in a given matrix, we can use a depth-first search (DFS) approach. The algorithm involves traversing the matrix and whenever we encounter an island (represented by 1), we initiate a DFS to mark all connected land pieces (1s) as visited (or change them to 0s to mark as visited). Each time we initiate a DFS, we count it as a new island."
   ]
  },
  {
   "cell_type": "code",
   "execution_count": 6,
   "metadata": {},
   "outputs": [],
   "source": [
    "#A function 'count_islands' takes a matrix as input and returns the number of islands using method dfs.\n",
    "def count_islands_dfs(matrix):\n",
    "    if not matrix:\n",
    "        return 0\n",
    "\n",
    "    def dfs(matrix, x, y):\n",
    "        #If we are out of bounds or at a water cell, return\n",
    "        if x < 0 or x >= len(matrix) or y < 0 or y >= len(matrix[0]) or matrix[x][y] == 0:\n",
    "            return\n",
    "        #Mark this cell as visited\n",
    "        matrix[x][y] = 0\n",
    "        #Visit all adjacent cells (8 directions)\n",
    "        dfs(matrix, x+1, y)\n",
    "        dfs(matrix, x-1, y)\n",
    "        dfs(matrix, x, y+1)\n",
    "        dfs(matrix, x, y-1)\n",
    "        dfs(matrix, x+1, y+1)\n",
    "        dfs(matrix, x-1, y-1)\n",
    "        dfs(matrix, x+1, y-1)\n",
    "        dfs(matrix, x-1, y+1)\n",
    "\n",
    "    num_islands = 0\n",
    "\n",
    "    for i in range(len(matrix)):\n",
    "        for j in range(len(matrix[0])):\n",
    "            if matrix[i][j] == 1:  #found an island\n",
    "                dfs(matrix, i, j)\n",
    "                num_islands += 1\n",
    "\n",
    "    return num_islands\n"
   ]
  },
  {
   "cell_type": "code",
   "execution_count": 7,
   "metadata": {},
   "outputs": [
    {
     "name": "stdout",
     "output_type": "stream",
     "text": [
      "Input:\n",
      "3 3\n",
      "[[0, 1, 0], [0, 0, 0], [0, 1, 1]]\n",
      "Output: 2\n",
      "\n",
      "Input:\n",
      "3 4\n",
      "[[0, 0, 0, 1], [0, 0, 1, 0], [0, 1, 0, 0]]\n",
      "Output: 1\n",
      "\n",
      "Input:\n",
      "3 4\n",
      "[[0, 0, 0, 1], [0, 0, 1, 1], [0, 1, 0, 1]]\n",
      "Output: 1\n",
      "\n"
     ]
    }
   ],
   "source": [
    "#Test cases:\n",
    "inputs = [\n",
    "    (3, 3, [[0, 1, 0], [0, 0, 0], [0, 1, 1]]),\n",
    "    (3, 4, [[0, 0, 0, 1], [0, 0, 1, 0], [0, 1, 0, 0]]),\n",
    "    (3, 4, [[0, 0, 0, 1], [0, 0, 1, 1], [0, 1, 0, 1]])\n",
    "]\n",
    "\n",
    "for M, N, matrix in inputs:\n",
    "    print(f\"Input:\\n{M} {N}\\n{matrix}\")\n",
    "    print(f\"Output: {count_islands_dfs(matrix)}\\n\")"
   ]
  },
  {
   "cell_type": "markdown",
   "metadata": {},
   "source": [
    "\n",
    "1. DFS Function-> this helper function is used to traverse and mark all connected parts of an island starting from any given cell.\n",
    "2. Marking Visited Cells-> during the DFS traversal, cells that are part of an island are marked as visited by setting them to 0.\n",
    "3. Counting Islands-> we iterate through each cell in the matrix. If we find a cell that is part of an island (value 1), we start a DFS from that cell and increment our island count.\n",
    "4. Test Cases-> the provided test cases are run to verify the correctness of the solution."
   ]
  },
  {
   "cell_type": "markdown",
   "metadata": {},
   "source": [
    "###############################################################################################################################################################"
   ]
  },
  {
   "cell_type": "markdown",
   "metadata": {},
   "source": [
    "2.Another way to count islands in a matrix is to use the Breadth-First Search (BFS) algorithm instead of Depth-First Search (DFS). BFS explores all the neighboring nodes at the present depth level before moving on to nodes at the next depth level."
   ]
  },
  {
   "cell_type": "code",
   "execution_count": 8,
   "metadata": {},
   "outputs": [],
   "source": [
    "from collections import deque"
   ]
  },
  {
   "cell_type": "code",
   "execution_count": 9,
   "metadata": {},
   "outputs": [],
   "source": [
    "#Implementing 'bfs' function using collection library to explore all connected parts of an island.\n",
    "def count_islands_bfs(matrix):\n",
    "    if not matrix:\n",
    "        return 0\n",
    "\n",
    "    def bfs(matrix, x, y):\n",
    "        queue = deque([(x, y)])\n",
    "        while queue:\n",
    "            cx, cy = queue.popleft()\n",
    "            for dx, dy in [(-1, 0), (1, 0), (0, -1), (0, 1)]:\n",
    "                nx, ny = cx + dx, cy + dy\n",
    "                if 0 <= nx < len(matrix) and 0 <= ny < len(matrix[0]) and matrix[nx][ny] == 1:\n",
    "                    matrix[nx][ny] = 0\n",
    "                    queue.append((nx, ny))\n",
    "\n",
    "    num_islands = 0\n",
    "\n",
    "    for i in range(len(matrix)):\n",
    "        for j in range(len(matrix[0])):\n",
    "            if matrix[i][j] == 1:  # Found an island\n",
    "                bfs(matrix, i, j)\n",
    "                num_islands += 1\n",
    "\n",
    "    return num_islands"
   ]
  },
  {
   "cell_type": "code",
   "execution_count": 10,
   "metadata": {},
   "outputs": [
    {
     "name": "stdout",
     "output_type": "stream",
     "text": [
      "Input:\n",
      "3 3\n",
      "[[0, 1, 0], [0, 0, 0], [0, 1, 1]]\n",
      "Output: 2\n",
      "\n",
      "Input:\n",
      "3 4\n",
      "[[0, 0, 0, 1], [0, 0, 1, 0], [0, 1, 0, 0]]\n",
      "Output: 3\n",
      "\n",
      "Input:\n",
      "3 4\n",
      "[[0, 0, 0, 1], [0, 0, 1, 1], [0, 1, 0, 1]]\n",
      "Output: 2\n",
      "\n"
     ]
    }
   ],
   "source": [
    "#Test cases\n",
    "inputs = [\n",
    "    (3, 3, [[0, 1, 0], [0, 0, 0], [0, 1, 1]]),\n",
    "    (3, 4, [[0, 0, 0, 1], [0, 0, 1, 0], [0, 1, 0, 0]]),\n",
    "    (3, 4, [[0, 0, 0, 1], [0, 0, 1, 1], [0, 1, 0, 1]])\n",
    "]\n",
    "\n",
    "for M, N, matrix in inputs:\n",
    "    print(f\"Input:\\n{M} {N}\\n{matrix}\")\n",
    "    print(f\"Output: {count_islands_bfs(matrix)}\\n\")"
   ]
  },
  {
   "cell_type": "markdown",
   "metadata": {},
   "source": [
    "BFS is ideal for finding the shortest path in unweighted graphs."
   ]
  },
  {
   "cell_type": "markdown",
   "metadata": {},
   "source": [
    "So we can use BSF approach for accomplishing this task."
   ]
  }
 ],
 "metadata": {
  "kernelspec": {
   "display_name": "base",
   "language": "python",
   "name": "python3"
  },
  "language_info": {
   "codemirror_mode": {
    "name": "ipython",
    "version": 3
   },
   "file_extension": ".py",
   "mimetype": "text/x-python",
   "name": "python",
   "nbconvert_exporter": "python",
   "pygments_lexer": "ipython3",
   "version": "3.11.5"
  }
 },
 "nbformat": 4,
 "nbformat_minor": 2
}
